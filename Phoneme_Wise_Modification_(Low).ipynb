{
  "nbformat": 4,
  "nbformat_minor": 0,
  "metadata": {
    "colab": {
      "provenance": [],
      "collapsed_sections": [],
      "mount_file_id": "1ngG2ldKDZ1ZSb06XuAAtf5RHqcuuKz5A",
      "authorship_tag": "ABX9TyNPCxQaq11q6M6zmgKPKm50",
      "include_colab_link": true
    },
    "kernelspec": {
      "name": "python3",
      "display_name": "Python 3"
    },
    "language_info": {
      "name": "python"
    }
  },
  "cells": [
    {
      "cell_type": "markdown",
      "metadata": {
        "id": "view-in-github",
        "colab_type": "text"
      },
      "source": [
        "<a href=\"https://colab.research.google.com/github/ShambhabiMondal/Audio-Modifications/blob/main/Phoneme_Wise_Modification_(Low).ipynb\" target=\"_parent\"><img src=\"https://colab.research.google.com/assets/colab-badge.svg\" alt=\"Open In Colab\"/></a>"
      ]
    },
    {
      "cell_type": "code",
      "source": [
        "!unzip /content/drive/MyDrive/PythonWORLDmaster.zip"
      ],
      "metadata": {
        "id": "MwuDp0m5KT8F"
      },
      "execution_count": null,
      "outputs": []
    },
    {
      "cell_type": "code",
      "source": [
        "from pathlib import Path\n",
        "import numpy as np\n",
        "from scipy.io.wavfile import read as wavread\n",
        "from scipy.io.wavfile import write as wavwrite\n",
        "from scipy import signal\n",
        "from scipy.io import savemat\n",
        "!pip install pysoundfile\n",
        "!pip install bitstring\n",
        "import IPython\n",
        "import wave\n",
        "import contextlib\n",
        "import matplotlib.pyplot as plt"
      ],
      "metadata": {
        "id": "NZCslWmU6h31"
      },
      "execution_count": null,
      "outputs": []
    },
    {
      "cell_type": "code",
      "source": [
        "cd /content/Python-WORLD-master"
      ],
      "metadata": {
        "id": "wCC7xg9QKZDw",
        "colab": {
          "base_uri": "https://localhost:8080/"
        },
        "outputId": "85d2a74a-b01b-46f4-8356-c861cb634354"
      },
      "execution_count": null,
      "outputs": [
        {
          "output_type": "stream",
          "name": "stdout",
          "text": [
            "/content/Python-WORLD-master\n"
          ]
        }
      ]
    },
    {
      "cell_type": "code",
      "source": [
        "from world import main"
      ],
      "metadata": {
        "id": "WRfRXmlKKaPE"
      },
      "execution_count": null,
      "outputs": []
    },
    {
      "cell_type": "code",
      "source": [
        "vocoder = main.World()"
      ],
      "metadata": {
        "id": "K2NkjgQZKdxS"
      },
      "execution_count": null,
      "outputs": []
    },
    {
      "cell_type": "code",
      "source": [
        "# List of all phonemes\n",
        "phone_list = ['p', 'k', 't', 'q', 'b', 'd', 'g', 'dx', 'f', 'th', 's', 'sh', 'v', 'dh', 'z', 'zh', 'ch', 'jh', 'm', 'n', 'ng', 'em', 'en', 'eng', 'nx', 'l', 'r', 'y', 'w', 'hh', 'hv', 'hl', 'iy', 'ey', 'aa', 'aw', 'ay', 'ao', 'oy', 'ow', 'uw', 'er', 'ax', 'ih', 'eh', 'ae', 'ah', 'uh', 'ux', 'ix', 'axr', 'ax-h']"
      ],
      "metadata": {
        "id": "lE76oJAPAHDE"
      },
      "execution_count": null,
      "outputs": []
    },
    {
      "cell_type": "code",
      "execution_count": null,
      "metadata": {
        "id": "Ztmqj4hbz4pO"
      },
      "outputs": [],
      "source": [
        "# Categories of phonemes and their corresponding optimum exaggeration ratios\n",
        "voiceless_stops = {\"Phoneme\" : np.array(['p', 'k', 't', 'q']), \"Pitch\" : 1.26, \"Duration\" : 1.13, \"Energy\" : 4.22}\n",
        "voiced_stops = {\"Phoneme\" : np.array(['b', 'd', 'g', 'dx']), \"Pitch\" : 1.26, \"Duration\" : 1.49, \"Energy\" : 5.29}\n",
        "\n",
        "voiceless_fricatives = {\"Phoneme\" : np.array(['f', 'th', 's', 'sh']), \"Pitch\" : 1.22, \"Duration\" : 2.76, \"Energy\" : 3.78}\n",
        "voiced_fricatives = {\"Phoneme\" : np.array(['v', 'dh', 'z', 'zh']), \"Pitch\" : 1.51, \"Duration\" : 1.64, \"Energy\" : 4.63}\n",
        "\n",
        "voiceless_affricates = {\"Phoneme\" : np.array(['ch']), \"Pitch\" : 1.19, \"Duration\" : 1.19, \"Energy\" : 3.58}\n",
        "voiced_affricates = {\"Phoneme\" : np.array(['jh']), \"Pitch\" : 1.70, \"Duration\" : 1.87, \"Energy\" : 4.64}\n",
        "\n",
        "nasals = {\"Phoneme\" : np.array(['m', 'n', 'ng', 'em', 'en', 'eng', 'nx']), \"Pitch\" : 1.32, \"Duration\" : 3.42, \"Energy\" : 1.60}\n",
        "\n",
        "laterals = {\"Phoneme\" : np.array(['l', 'r']), \"Pitch\" : 1.12, \"Duration\" : 2.78, \"Energy\" : 3.45}\n",
        "\n",
        "semi_vowels = {\"Phoneme\" : np.array(['y', 'w', 'hh', 'hv', 'hl']), \"Pitch\" : 1.24, \"Duration\" : 2.16, \"Energy\" : 2.57}\n",
        "long_vowels = {\"Phoneme\" : np.array(['iy', 'ey', 'aa', 'aw', 'ay', 'ao', 'oy', 'ow', 'uw', 'er', 'ax']), \"Pitch\" : 1.14, \"Duration\" : 1.96, \"Energy\" : 2.82}\n",
        "short_vowels = {\"Phoneme\" : np.array(['ih', 'eh', 'ae', 'ah', 'uh', 'ux', 'ix', 'axr', 'ax-h']), \"Pitch\" : 1.38, \"Duration\" : 2.15, \"Energy\" : 2.15}"
      ]
    },
    {
      "cell_type": "code",
      "source": [
        "# Input section\n",
        "wavfile = input(\"Path of the .wav file: \")\n",
        "transcript = input(\"Path of the transcript file: \")"
      ],
      "metadata": {
        "id": "w8n6IbUwKK6Q",
        "colab": {
          "base_uri": "https://localhost:8080/"
        },
        "outputId": "891b050a-6350-4710-f5d2-b05742231e56"
      },
      "execution_count": null,
      "outputs": [
        {
          "name": "stdout",
          "output_type": "stream",
          "text": [
            "Path of the .wav file: /content/drive/MyDrive/Audio Files and Transcripts/TIMIT_Audio_File_11/Audio_Files/Original_Audio.wav\n",
            "Path of the transcript file: /content/drive/MyDrive/Audio Files and Transcripts/TIMIT_Audio_File_11/Transcripts/Word_Transcript/Word_4.txt\n"
          ]
        }
      ]
    },
    {
      "cell_type": "markdown",
      "source": [
        "/content/drive/MyDrive/Audio Files and Transcripts/TIMIT_Audio_File_11/Audio_Files/Original_Audio.wav\n",
        "\n",
        "/content/drive/MyDrive/Audio Files and Transcripts/TIMIT_Audio_File_11/Transcripts/Word_Transcript/Word_4.txt"
      ],
      "metadata": {
        "id": "oNrUUJVa7PW9"
      }
    },
    {
      "cell_type": "code",
      "source": [
        "# Obtains sampling frequency and array of frames\n",
        "fs, x_int16 = wavread(wavfile)\n",
        "x = x_int16 / (2 ** 15 - 1)"
      ],
      "metadata": {
        "id": "3-Ft_CMOKoyS"
      },
      "execution_count": null,
      "outputs": []
    },
    {
      "cell_type": "code",
      "source": [
        "# Encodes the audio file\n",
        "dat = vocoder.encode(fs, x, f0_method = 'harvest')\n",
        "ori = vocoder.encode(fs, x, f0_method = 'harvest')"
      ],
      "metadata": {
        "id": "29RWl7VsKpi2"
      },
      "execution_count": null,
      "outputs": []
    },
    {
      "cell_type": "code",
      "source": [
        "# Calculates the index of a timestamp from the temporal_positions array\n",
        "def get_position(time):\n",
        "  pos = 0\n",
        "  time1 = round((5 * round((time / 5), 3)), 3)\n",
        "\n",
        "  for i in range(0, len(ori['temporal_positions'])):\n",
        "    if ori['temporal_positions'][i] == time1:\n",
        "      pos = i\n",
        "      \n",
        "  return pos"
      ],
      "metadata": {
        "id": "9NmEDn-L9Pp2"
      },
      "execution_count": null,
      "outputs": []
    },
    {
      "cell_type": "code",
      "source": [
        "# Reads the transcript file\n",
        "phoneme = {}\n",
        "t = 0\n",
        "\n",
        "with open(transcript, \"r\") as txtfile:\n",
        "  for line in txtfile:\n",
        "    c = 0\n",
        "\n",
        "    for word in line.split():\n",
        "      if c == 0:\n",
        "        st = float(word)\n",
        "\n",
        "      elif c == 1:\n",
        "        et = float(word)\n",
        "\n",
        "      else:\n",
        "        ph = word\n",
        "\n",
        "      c += 1\n",
        "\n",
        "    key = \"Phoneme \" + str(t)\n",
        "    phoneme[key] = {}\n",
        "\n",
        "    phoneme[key][\"Phoneme\"] = ph\n",
        "    phoneme[key][\"Start\"] = get_position(st)\n",
        "    phoneme[key][\"End\"] = get_position(et)\n",
        "\n",
        "    t += 1\n",
        "\n",
        "len_phn = len(phoneme)"
      ],
      "metadata": {
        "id": "pC_6Wmo22lSH"
      },
      "execution_count": null,
      "outputs": []
    },
    {
      "cell_type": "code",
      "source": [
        "print(phoneme)"
      ],
      "metadata": {
        "colab": {
          "base_uri": "https://localhost:8080/"
        },
        "id": "hEeu4ID6Mpmz",
        "outputId": "835e023e-7f12-4ea1-97dd-66b3d3771891"
      },
      "execution_count": null,
      "outputs": [
        {
          "output_type": "stream",
          "name": "stdout",
          "text": [
            "{'Phoneme 0': {'Phoneme': 'q', 'Start': 115, 'End': 122}, 'Phoneme 1': {'Phoneme': 'ow', 'Start': 122, 'End': 142}, 'Phoneme 2': {'Phoneme': 'v', 'Start': 142, 'End': 149}, 'Phoneme 3': {'Phoneme': 'axr', 'Start': 149, 'End': 165}, 'Phoneme 4': {'Phoneme': 'l', 'Start': 165, 'End': 179}, 'Phoneme 5': {'Phoneme': 'uh', 'Start': 179, 'End': 191}, 'Phoneme 6': {'Phoneme': 'k', 'Start': 191, 'End': 205}, 'Phoneme 7': {'Phoneme': 'k', 'Start': 205, 'End': 213}}\n"
          ]
        }
      ]
    },
    {
      "cell_type": "code",
      "source": [
        "# Determmines the starting and ending temporal positions of the word which is to be exaggerated\n",
        "st = phoneme[\"Phoneme 0\"][\"Start\"]\n",
        "k = \"Phoneme \" + str(len(phoneme) - 1)\n",
        "et = phoneme[k][\"End\"]"
      ],
      "metadata": {
        "id": "7fETJ5fvLwRM"
      },
      "execution_count": null,
      "outputs": []
    },
    {
      "cell_type": "code",
      "source": [
        "diff = ori['temporal_positions'][1] - ori['temporal_positions'][0]\n",
        "diff = round(diff, 3)"
      ],
      "metadata": {
        "id": "QqUaD94eDvM3"
      },
      "execution_count": null,
      "outputs": []
    },
    {
      "cell_type": "code",
      "source": [
        "# Modifies the pitch in an audio\n",
        "def pitch_modulations(pos1, pos2, factor, dt):\n",
        "  dt['f0'][pos1:pos2] *= factor\n",
        "  return dt"
      ],
      "metadata": {
        "id": "sXe8XxIfTd9p"
      },
      "execution_count": null,
      "outputs": []
    },
    {
      "cell_type": "code",
      "source": [
        "# Modifies the duration in an audio\n",
        "def time_modulations(pos1, pos2, factor, dt, diff):\n",
        "  temp = []\n",
        "  c = 0\n",
        "\n",
        "  for i in range(pos1, pos2 + 1):\n",
        "    temp.append(dt['temporal_positions'][i] - dt['temporal_positions'][pos1])\n",
        "\n",
        "  for i in range(len(temp)):\n",
        "    temp[i] *= factor\n",
        "\n",
        "  for i in range(pos1, pos2 + 1):\n",
        "    dt['temporal_positions'][i] =  dt['temporal_positions'][pos1] + temp[c]\n",
        "    c += 1\n",
        "\n",
        "  for i in range(1, len(dt['temporal_positions'])):\n",
        "    if dt['temporal_positions'][i] < dt['temporal_positions'][i - 1]:\n",
        "      dt['temporal_positions'][i] = dt['temporal_positions'][i - 1] + diff\n",
        "      \n",
        "  return dt"
      ],
      "metadata": {
        "id": "QShWcAUJtWfH"
      },
      "execution_count": null,
      "outputs": []
    },
    {
      "cell_type": "code",
      "source": [
        "# Modifies the energy in an audio\n",
        "def energy_modulations(pos1, pos2, factor, dt):\n",
        "  dt['spectrogram'][pos1:pos2] *= factor\n",
        "  return dt"
      ],
      "metadata": {
        "id": "7_A7MeXLtg42"
      },
      "execution_count": null,
      "outputs": []
    },
    {
      "cell_type": "code",
      "source": [
        "# Determines the category of the current phoneme (using linear search)\n",
        "def search(ar, low, high, x):\n",
        "  for i in range(len(ar)):\n",
        "    if ar[i] == x:\n",
        "      return i + 1\n",
        "  return -1"
      ],
      "metadata": {
        "id": "YROflRUl-vBp"
      },
      "execution_count": null,
      "outputs": []
    },
    {
      "cell_type": "code",
      "source": [
        "# Performs various modifications on the audio phoneme-wise\n",
        "for i in phoneme:\n",
        "    phone = phoneme[i][\"Phoneme\"]\n",
        "    start = phoneme[i][\"Start\"]\n",
        "    end = phoneme[i][\"End\"]\n",
        "\n",
        "    pos = search(phone_list, 0, len(phone_list) - 1, phone)\n",
        "\n",
        "    if pos <= 4 and pos != -1:\n",
        "      pf = voiceless_stops[\"Pitch\"]\n",
        "      df = voiceless_stops[\"Duration\"]\n",
        "      ef = voiceless_stops[\"Energy\"]\n",
        "\n",
        "    elif pos > 4 and pos <= 8:\n",
        "      pf = voiced_stops[\"Pitch\"]\n",
        "      df = voiced_stops[\"Duration\"]\n",
        "      ef = voiced_stops[\"Energy\"]\n",
        "\n",
        "    elif pos > 8 and pos <= 12:\n",
        "      pf = voiceless_stops[\"Pitch\"]\n",
        "      df = voiceless_stops[\"Duration\"]\n",
        "      ef = voiceless_stops[\"Energy\"]\n",
        "\n",
        "    elif pos > 12 and pos <= 16:\n",
        "      pf = voiced_stops[\"Pitch\"]\n",
        "      df = voiced_stops[\"Duration\"]\n",
        "      ef = voiced_stops[\"Energy\"]\n",
        "\n",
        "    elif pos > 16 and pos <= 17:\n",
        "      pf = voiceless_affricates[\"Pitch\"]\n",
        "      df = voiceless_affricates[\"Duration\"]\n",
        "      ef = voiceless_affricates[\"Energy\"]\n",
        "\n",
        "    elif pos > 17 and pos <= 18:\n",
        "      pf = voiced_affricates[\"Pitch\"]\n",
        "      df = voiced_affricates[\"Duration\"]\n",
        "      ef = voiced_affricates[\"Energy\"]\n",
        "\n",
        "    elif pos > 18 and pos <= 25:\n",
        "      pf = nasals[\"Pitch\"]\n",
        "      df = nasals[\"Duration\"]\n",
        "      ef = nasals[\"Energy\"]\n",
        "\n",
        "    elif pos > 25 and pos <= 27:\n",
        "      pf = laterals[\"Pitch\"]\n",
        "      df = laterals[\"Duration\"]\n",
        "      ef = laterals[\"Energy\"]\n",
        "\n",
        "    elif pos > 27 and pos <= 32:\n",
        "      pf = semi_vowels[\"Pitch\"]\n",
        "      df = semi_vowels[\"Duration\"]\n",
        "      ef = semi_vowels[\"Energy\"]\n",
        "\n",
        "    elif pos > 32 and pos <= 43:\n",
        "      pf = long_vowels[\"Pitch\"]\n",
        "      df = long_vowels[\"Duration\"]\n",
        "      ef = long_vowels[\"Energy\"]\n",
        "\n",
        "    elif pos != -1:\n",
        "      pf = short_vowels[\"Pitch\"]\n",
        "      df = short_vowels[\"Duration\"]\n",
        "      ef = short_vowels[\"Energy\"]\n",
        "      \n",
        "    dat = pitch_modulations(start, end, pf, dat)\n",
        "    dat = time_modulations(start, end, df, dat, diff)\n",
        "    dat = energy_modulations(start, end, ef, dat)"
      ],
      "metadata": {
        "id": "jymEJY6wOAeH"
      },
      "execution_count": null,
      "outputs": []
    },
    {
      "cell_type": "code",
      "source": [
        "# Decodes the modified audio file and writes it onto a new file\n",
        "dat1 = vocoder.decode(dat)\n",
        "\n",
        "if len_phn == 1:\n",
        "  ph_num = transcript.rindex(\"_\") + 1\n",
        "  wrd_num = transcript.rindex(\"/\") - 1\n",
        "\n",
        "  if ph_num < 10:\n",
        "    new_wavfile = wavfile[0:(len(wavfile) - 19)] + \"/\" + \"Low Proficiency/Phoneme_Modifications/Phoneme_\" + transcript[ph_num:(ph_num + 1)] + \".wav\"\n",
        "\n",
        "  elif ph_num >=10:\n",
        "    # new_wavfile = wavfile[0:(len(wavfile) - 19)] + \"/\" + \"Low Proficiency/Phoneme_Modifications/Phoneme_\" + transcript[ph_num:(ph_num + 2)] + \".wav\"\n",
        "    new_wavfile = wavfile[0:(len(wavfile) - 19)] + \"/\" + \"Low Proficiency/Phoneme_Modifications/Word_\" + transcript[wrd_num:(wrd_num + 1)] + \"/Phoneme_\" + transcript[ph_num:(ph_num + 2)] + \".wav\"\n",
        "\n",
        "elif len_phn > 1:\n",
        "  wrd_num = transcript.rindex(\"_\") + 1\n",
        "\n",
        "  if wrd_num < 10:\n",
        "    new_wavfile = wavfile[0:(len(wavfile) - 19)] + \"/\" + \"Low Proficiency/Word_Modifications/Word_\" + transcript[wrd_num:(wrd_num + 1)] + \"wav\"\n",
        "\n",
        "  elif wrd_num >= 10:\n",
        "    new_wavfile = wavfile[0:(len(wavfile) - 19)] + \"/\" + \"Low Proficiency/Word_Modifications/Word_\" + transcript[wrd_num:(wrd_num + 1)] + \".wav\"\n",
        "\n",
        "print(new_wavfile)\n",
        "\n",
        "wavwrite(new_wavfile, fs, (dat1['out'] * (2 ** 15)).astype(np.int16))"
      ],
      "metadata": {
        "id": "G-9uAZYa76DC",
        "colab": {
          "base_uri": "https://localhost:8080/"
        },
        "outputId": "a86cc87e-a240-4926-e8f7-0de09cd34029"
      },
      "execution_count": null,
      "outputs": [
        {
          "output_type": "stream",
          "name": "stdout",
          "text": [
            "/content/drive/MyDrive/Audio Files and Transcripts/TIMIT_Audio_File_11/Audio_Files/Low Proficiency/Word_Modifications/Word_4.wav\n"
          ]
        }
      ]
    },
    {
      "cell_type": "code",
      "source": [
        "ori['temporal_positions']"
      ],
      "metadata": {
        "colab": {
          "base_uri": "https://localhost:8080/"
        },
        "id": "wht0CnNbZXVG",
        "outputId": "d2e7ce1b-96a7-4527-ec90-a864aacc87fc"
      },
      "execution_count": null,
      "outputs": [
        {
          "output_type": "execute_result",
          "data": {
            "text/plain": [
              "array([0.   , 0.005, 0.01 , 0.015, 0.02 , 0.025, 0.03 , 0.035, 0.04 ,\n",
              "       0.045, 0.05 , 0.055, 0.06 , 0.065, 0.07 , 0.075, 0.08 , 0.085,\n",
              "       0.09 , 0.095, 0.1  , 0.105, 0.11 , 0.115, 0.12 , 0.125, 0.13 ,\n",
              "       0.135, 0.14 , 0.145, 0.15 , 0.155, 0.16 , 0.165, 0.17 , 0.175,\n",
              "       0.18 , 0.185, 0.19 , 0.195, 0.2  , 0.205, 0.21 , 0.215, 0.22 ,\n",
              "       0.225, 0.23 , 0.235, 0.24 , 0.245, 0.25 , 0.255, 0.26 , 0.265,\n",
              "       0.27 , 0.275, 0.28 , 0.285, 0.29 , 0.295, 0.3  , 0.305, 0.31 ,\n",
              "       0.315, 0.32 , 0.325, 0.33 , 0.335, 0.34 , 0.345, 0.35 , 0.355,\n",
              "       0.36 , 0.365, 0.37 , 0.375, 0.38 , 0.385, 0.39 , 0.395, 0.4  ,\n",
              "       0.405, 0.41 , 0.415, 0.42 , 0.425, 0.43 , 0.435, 0.44 , 0.445,\n",
              "       0.45 , 0.455, 0.46 , 0.465, 0.47 , 0.475, 0.48 , 0.485, 0.49 ,\n",
              "       0.495, 0.5  , 0.505, 0.51 , 0.515, 0.52 , 0.525, 0.53 , 0.535,\n",
              "       0.54 , 0.545, 0.55 , 0.555, 0.56 , 0.565, 0.57 , 0.575, 0.58 ,\n",
              "       0.585, 0.59 , 0.595, 0.6  , 0.605, 0.61 , 0.615, 0.62 , 0.625,\n",
              "       0.63 , 0.635, 0.64 , 0.645, 0.65 , 0.655, 0.66 , 0.665, 0.67 ,\n",
              "       0.675, 0.68 , 0.685, 0.69 , 0.695, 0.7  , 0.705, 0.71 , 0.715,\n",
              "       0.72 , 0.725, 0.73 , 0.735, 0.74 , 0.745, 0.75 , 0.755, 0.76 ,\n",
              "       0.765, 0.77 , 0.775, 0.78 , 0.785, 0.79 , 0.795, 0.8  , 0.805,\n",
              "       0.81 , 0.815, 0.82 , 0.825, 0.83 , 0.835, 0.84 , 0.845, 0.85 ,\n",
              "       0.855, 0.86 , 0.865, 0.87 , 0.875, 0.88 , 0.885, 0.89 , 0.895,\n",
              "       0.9  , 0.905, 0.91 , 0.915, 0.92 , 0.925, 0.93 , 0.935, 0.94 ,\n",
              "       0.945, 0.95 , 0.955, 0.96 , 0.965, 0.97 , 0.975, 0.98 , 0.985,\n",
              "       0.99 , 0.995, 1.   , 1.005, 1.01 , 1.015, 1.02 , 1.025, 1.03 ,\n",
              "       1.035, 1.04 , 1.045, 1.05 , 1.055, 1.06 , 1.065, 1.07 , 1.075,\n",
              "       1.08 , 1.085, 1.09 , 1.095, 1.1  , 1.105, 1.11 , 1.115, 1.12 ,\n",
              "       1.125, 1.13 , 1.135, 1.14 , 1.145, 1.15 , 1.155, 1.16 , 1.165,\n",
              "       1.17 , 1.175, 1.18 , 1.185, 1.19 , 1.195, 1.2  , 1.205, 1.21 ,\n",
              "       1.215, 1.22 , 1.225, 1.23 , 1.235, 1.24 , 1.245, 1.25 , 1.255,\n",
              "       1.26 , 1.265, 1.27 , 1.275, 1.28 , 1.285, 1.29 , 1.295, 1.3  ,\n",
              "       1.305, 1.31 , 1.315, 1.32 , 1.325, 1.33 , 1.335, 1.34 , 1.345,\n",
              "       1.35 , 1.355, 1.36 , 1.365, 1.37 , 1.375, 1.38 , 1.385, 1.39 ,\n",
              "       1.395, 1.4  , 1.405, 1.41 , 1.415, 1.42 , 1.425, 1.43 , 1.435,\n",
              "       1.44 , 1.445, 1.45 , 1.455, 1.46 , 1.465, 1.47 , 1.475, 1.48 ,\n",
              "       1.485, 1.49 , 1.495, 1.5  , 1.505, 1.51 , 1.515, 1.52 , 1.525,\n",
              "       1.53 , 1.535, 1.54 , 1.545, 1.55 , 1.555, 1.56 , 1.565, 1.57 ,\n",
              "       1.575, 1.58 , 1.585, 1.59 , 1.595, 1.6  ])"
            ]
          },
          "metadata": {},
          "execution_count": 22
        }
      ]
    },
    {
      "cell_type": "code",
      "source": [
        "dat['temporal_positions']"
      ],
      "metadata": {
        "id": "5qse2x_oFtVZ",
        "colab": {
          "base_uri": "https://localhost:8080/"
        },
        "outputId": "a2ff9b25-550e-443d-9a8e-b0ec7200a4a1"
      },
      "execution_count": null,
      "outputs": [
        {
          "output_type": "execute_result",
          "data": {
            "text/plain": [
              "array([0.      , 0.005   , 0.01    , 0.015   , 0.02    , 0.025   ,\n",
              "       0.03    , 0.035   , 0.04    , 0.045   , 0.05    , 0.055   ,\n",
              "       0.06    , 0.065   , 0.07    , 0.075   , 0.08    , 0.085   ,\n",
              "       0.09    , 0.095   , 0.1     , 0.105   , 0.11    , 0.115   ,\n",
              "       0.12    , 0.125   , 0.13    , 0.135   , 0.14    , 0.145   ,\n",
              "       0.15    , 0.155   , 0.16    , 0.165   , 0.17    , 0.175   ,\n",
              "       0.18    , 0.185   , 0.19    , 0.195   , 0.2     , 0.205   ,\n",
              "       0.21    , 0.215   , 0.22    , 0.225   , 0.23    , 0.235   ,\n",
              "       0.24    , 0.245   , 0.25    , 0.255   , 0.26    , 0.265   ,\n",
              "       0.27    , 0.275   , 0.28    , 0.285   , 0.29    , 0.295   ,\n",
              "       0.3     , 0.305   , 0.31    , 0.315   , 0.32    , 0.325   ,\n",
              "       0.33    , 0.335   , 0.34    , 0.345   , 0.35    , 0.355   ,\n",
              "       0.36    , 0.365   , 0.37    , 0.375   , 0.38    , 0.385   ,\n",
              "       0.39    , 0.395   , 0.4     , 0.405   , 0.41    , 0.415   ,\n",
              "       0.42    , 0.425   , 0.43    , 0.435   , 0.44    , 0.445   ,\n",
              "       0.45    , 0.455   , 0.46    , 0.465   , 0.47    , 0.475   ,\n",
              "       0.48    , 0.485   , 0.49    , 0.495   , 0.5     , 0.505   ,\n",
              "       0.51    , 0.515   , 0.52    , 0.525   , 0.53    , 0.535   ,\n",
              "       0.54    , 0.545   , 0.55    , 0.555   , 0.56    , 0.565   ,\n",
              "       0.57    , 0.575   , 0.58065 , 0.5863  , 0.59195 , 0.5976  ,\n",
              "       0.60325 , 0.6089  , 0.61455 , 0.615432, 0.625232, 0.635032,\n",
              "       0.644832, 0.654632, 0.664432, 0.674232, 0.684032, 0.693832,\n",
              "       0.703632, 0.713432, 0.723232, 0.733032, 0.742832, 0.752632,\n",
              "       0.762432, 0.772232, 0.782032, 0.791832, 0.801632, 0.809082,\n",
              "       0.816532, 0.823982, 0.831432, 0.838882, 0.846332, 0.853782,\n",
              "       0.864532, 0.875282, 0.886032, 0.896782, 0.907532, 0.918282,\n",
              "       0.929032, 0.939782, 0.950532, 0.961282, 0.972032, 0.982782,\n",
              "       0.993532, 1.004282, 1.015032, 1.025782, 1.039682, 1.053582,\n",
              "       1.067482, 1.081382, 1.095282, 1.109182, 1.123082, 1.136982,\n",
              "       1.150882, 1.164782, 1.178682, 1.192582, 1.206482, 1.220382,\n",
              "       1.231132, 1.241882, 1.252632, 1.263382, 1.274132, 1.284882,\n",
              "       1.295632, 1.306382, 1.317132, 1.327882, 1.338632, 1.349382,\n",
              "       1.355032, 1.360682, 1.366332, 1.371982, 1.377632, 1.383282,\n",
              "       1.388932, 1.394582, 1.400232, 1.405882, 1.411532, 1.417182,\n",
              "       1.422832, 1.428482, 1.434132, 1.439782, 1.445432, 1.451082,\n",
              "       1.456732, 1.462382, 1.468032, 1.473682, 1.478682, 1.483682,\n",
              "       1.488682, 1.493682, 1.498682, 1.503682, 1.508682, 1.513682,\n",
              "       1.518682, 1.523682, 1.528682, 1.533682, 1.538682, 1.543682,\n",
              "       1.548682, 1.553682, 1.558682, 1.563682, 1.568682, 1.573682,\n",
              "       1.578682, 1.583682, 1.588682, 1.593682, 1.598682, 1.603682,\n",
              "       1.608682, 1.613682, 1.618682, 1.623682, 1.628682, 1.633682,\n",
              "       1.638682, 1.643682, 1.648682, 1.653682, 1.658682, 1.663682,\n",
              "       1.668682, 1.673682, 1.678682, 1.683682, 1.688682, 1.693682,\n",
              "       1.698682, 1.703682, 1.708682, 1.713682, 1.718682, 1.723682,\n",
              "       1.728682, 1.733682, 1.738682, 1.743682, 1.748682, 1.753682,\n",
              "       1.758682, 1.763682, 1.768682, 1.773682, 1.778682, 1.783682,\n",
              "       1.788682, 1.793682, 1.798682, 1.803682, 1.808682, 1.813682,\n",
              "       1.818682, 1.823682, 1.828682, 1.833682, 1.838682, 1.843682,\n",
              "       1.848682, 1.853682, 1.858682, 1.863682, 1.868682, 1.873682,\n",
              "       1.878682, 1.883682, 1.888682, 1.893682, 1.898682, 1.903682,\n",
              "       1.908682, 1.913682, 1.918682, 1.923682, 1.928682, 1.933682,\n",
              "       1.938682, 1.943682, 1.948682, 1.953682, 1.958682, 1.963682,\n",
              "       1.968682, 1.973682, 1.978682, 1.983682, 1.988682, 1.993682,\n",
              "       1.998682, 2.003682, 2.008682])"
            ]
          },
          "metadata": {},
          "execution_count": 23
        }
      ]
    }
  ]
}